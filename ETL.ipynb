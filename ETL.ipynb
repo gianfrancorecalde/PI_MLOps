{
 "cells": [
  {
   "cell_type": "markdown",
   "metadata": {},
   "source": [
    "Librerias"
   ]
  },
  {
   "cell_type": "code",
   "execution_count": 1,
   "metadata": {},
   "outputs": [],
   "source": [
    "import numpy as np\n",
    "import pandas as pd\n",
    "import ast #libreria para la lectura literal de la linea"
   ]
  },
  {
   "cell_type": "markdown",
   "metadata": {},
   "source": [
    "Lectura austrlian_user_reviews.json"
   ]
  },
  {
   "cell_type": "code",
   "execution_count": 2,
   "metadata": {},
   "outputs": [],
   "source": [
    "list = []\n",
    "for line in open('C:\\\\Users\\\\Usuario\\\\Desktop\\\\PI_MLOps\\\\dataset_original\\\\australian_user_reviews.json', encoding='utf-8').readlines():\n",
    "    list.append(ast.literal_eval(line))\n",
    "df = pd.DataFrame.from_dict(list)"
   ]
  },
  {
   "cell_type": "markdown",
   "metadata": {},
   "source": [
    "Transform dataframe"
   ]
  },
  {
   "cell_type": "code",
   "execution_count": 4,
   "metadata": {},
   "outputs": [],
   "source": [
    "#Create df_User_Reviews'\n",
    "df_User_Reviews = df[['user_id','reviews']]"
   ]
  },
  {
   "cell_type": "markdown",
   "metadata": {},
   "source": [
    "Transform column 'reviews'"
   ]
  },
  {
   "cell_type": "code",
   "execution_count": 5,
   "metadata": {},
   "outputs": [],
   "source": [
    "#Expand 'reviews'\n",
    "df_User_Reviews = df_User_Reviews.explode('reviews')"
   ]
  },
  {
   "cell_type": "code",
   "execution_count": 6,
   "metadata": {},
   "outputs": [],
   "source": [
    "#Reset index \n",
    "df_User_Reviews.reset_index(drop=True, inplace=True)"
   ]
  },
  {
   "cell_type": "code",
   "execution_count": 7,
   "metadata": {},
   "outputs": [],
   "source": [
    "#Delete nulls  \n",
    "df_User_Reviews = df_User_Reviews.dropna()"
   ]
  },
  {
   "cell_type": "code",
   "execution_count": 8,
   "metadata": {},
   "outputs": [
    {
     "data": {
      "text/plain": [
       "0                                        \n",
       "1                                        \n",
       "2                                        \n",
       "3                                        \n",
       "4                                        \n",
       "                       ...               \n",
       "59328                                    \n",
       "59329                                    \n",
       "59330    1 person found this review funny\n",
       "59331                                    \n",
       "59332                                    \n",
       "Name: reviews, Length: 59305, dtype: object"
      ]
     },
     "execution_count": 8,
     "metadata": {},
     "output_type": "execute_result"
    }
   ],
   "source": [
    "#Delete keys 'last_edited' and 'funny'\n",
    "df_User_Reviews['reviews'].apply(lambda x : x.pop('last_edited'))\n",
    "df_User_Reviews['reviews'].apply(lambda x : x.pop('funny'))"
   ]
  },
  {
   "cell_type": "code",
   "execution_count": 9,
   "metadata": {},
   "outputs": [
    {
     "data": {
      "text/plain": [
       "0        None\n",
       "1        None\n",
       "2        None\n",
       "3        None\n",
       "4        None\n",
       "         ... \n",
       "59328    None\n",
       "59329    None\n",
       "59330    None\n",
       "59331    None\n",
       "59332    None\n",
       "Name: reviews, Length: 59305, dtype: object"
      ]
     },
     "execution_count": 9,
     "metadata": {},
     "output_type": "execute_result"
    }
   ],
   "source": [
    "#Change type of data for key 'posted' for each review\n",
    "def clean_Posted(dic):\n",
    "    #Replace 'Posted' --> ''\n",
    "    dic['posted'] = dic['posted'].replace('Posted ','')\n",
    "    #Replace '.' --> ''\n",
    "    dic['posted'] = dic['posted'].replace('.','')\n",
    "\n",
    "df_User_Reviews['reviews'].apply(lambda row: clean_Posted(row))"
   ]
  },
  {
   "cell_type": "code",
   "execution_count": 10,
   "metadata": {},
   "outputs": [],
   "source": [
    "#Convert to datetime\n",
    "\n",
    "#Import class datetime\n",
    "from datetime import datetime\n",
    "\n",
    "def format(dic):\n",
    "    try:\n",
    "        #Try to convert\n",
    "        dic['posted']=(datetime.strptime(dic['posted'],'%B %d, %Y')).strftime('%d-%m-%Y')\n",
    "        return dic\n",
    "    except ValueError:\n",
    "        #catch error\n",
    "        return None\n",
    "    \n",
    "df_User_Reviews['reviews']=df_User_Reviews['reviews'].apply(lambda row: format(row))"
   ]
  },
  {
   "cell_type": "code",
   "execution_count": 11,
   "metadata": {},
   "outputs": [],
   "source": [
    "#Elimino NaNs \n",
    "df_User_Reviews.dropna(inplace=True)"
   ]
  },
  {
   "cell_type": "code",
   "execution_count": 12,
   "metadata": {},
   "outputs": [],
   "source": [
    "#Convert to int \n",
    "def to_Int(dic):\n",
    "    try:\n",
    "        #Try to convert\n",
    "        dic['item_id'] = int(dic['item_id']) \n",
    "        return dic\n",
    "    except ValueError:\n",
    "        #catch error\n",
    "        return None\n",
    "    \n",
    "df_User_Reviews['reviews'] = (df_User_Reviews['reviews'].apply(lambda row: to_Int(row))).dropna()"
   ]
  },
  {
   "cell_type": "code",
   "execution_count": 13,
   "metadata": {},
   "outputs": [
    {
     "data": {
      "text/plain": [
       "0        None\n",
       "1        None\n",
       "2        None\n",
       "3        None\n",
       "4        None\n",
       "         ... \n",
       "59280    None\n",
       "59283    None\n",
       "59293    None\n",
       "59295    None\n",
       "59304    None\n",
       "Name: reviews, Length: 49186, dtype: object"
      ]
     },
     "execution_count": 13,
     "metadata": {},
     "output_type": "execute_result"
    }
   ],
   "source": [
    "#Modifico tipo de dato boolean --> int sobre la columna 'recommend' \n",
    "def to_Int_Boolean(dic):\n",
    "    try:\n",
    "        #Try to convert\n",
    "        if (dic['recommend']):\n",
    "            #recommend == True\n",
    "            dic['recommend'] = 1\n",
    "        else:\n",
    "            #Recommen == False\n",
    "            dic['recommend'] = 0\n",
    "    except ValueError:\n",
    "        #catch error\n",
    "        return None\n",
    "\n",
    "df_User_Reviews['reviews'].apply(lambda row: to_Int_Boolean(row))"
   ]
  },
  {
   "cell_type": "code",
   "execution_count": 16,
   "metadata": {},
   "outputs": [],
   "source": [
    "#Elimino NaNs \n",
    "df_User_Reviews.dropna(inplace=True)"
   ]
  },
  {
   "cell_type": "markdown",
   "metadata": {},
   "source": [
    "Feature Engineering"
   ]
  },
  {
   "cell_type": "markdown",
   "metadata": {},
   "source": [
    "Consultas df_User_Reviews"
   ]
  },
  {
   "cell_type": "code",
   "execution_count": 15,
   "metadata": {},
   "outputs": [
    {
     "data": {
      "text/plain": [
       "int"
      ]
     },
     "execution_count": 15,
     "metadata": {},
     "output_type": "execute_result"
    }
   ],
   "source": [
    "#Tip de dato de la clave 'recommend'\n",
    "type(df_User_Reviews['reviews'][0]['recommend'])"
   ]
  },
  {
   "cell_type": "markdown",
   "metadata": {},
   "source": [
    "Lectura australian_users_items.json"
   ]
  },
  {
   "cell_type": "code",
   "execution_count": 2,
   "metadata": {},
   "outputs": [],
   "source": [
    "list = []\n",
    "for line in open('C:\\\\Users\\\\Usuario\\\\Desktop\\\\PI_MLOps\\\\dataset_original\\\\australian_users_items.json', encoding='utf-8').readlines():\n",
    "    list.append(ast.literal_eval(line))\n",
    "df = pd.DataFrame.from_dict(list)"
   ]
  },
  {
   "cell_type": "markdown",
   "metadata": {},
   "source": [
    "Transform DataFrame"
   ]
  },
  {
   "cell_type": "code",
   "execution_count": 3,
   "metadata": {},
   "outputs": [],
   "source": [
    "#Create df_Users_Items'\n",
    "df_Users_Items = df[['user_id','items_count','items']]"
   ]
  },
  {
   "cell_type": "code",
   "execution_count": 4,
   "metadata": {},
   "outputs": [],
   "source": [
    "#Expand 'items'\n",
    "df_Users_Items=df_Users_Items.explode('items')"
   ]
  },
  {
   "cell_type": "code",
   "execution_count": 5,
   "metadata": {},
   "outputs": [],
   "source": [
    "#Reset Index\n",
    "df_Users_Items.reset_index(drop=True, inplace=True)"
   ]
  },
  {
   "cell_type": "code",
   "execution_count": 6,
   "metadata": {},
   "outputs": [
    {
     "data": {
      "text/plain": [
       "16806"
      ]
     },
     "execution_count": 6,
     "metadata": {},
     "output_type": "execute_result"
    }
   ],
   "source": [
    "#Cantidad de filas con datos NULLS en la columna 'items'\n",
    "df_Users_Items['items'].isna().sum()"
   ]
  },
  {
   "cell_type": "code",
   "execution_count": 7,
   "metadata": {},
   "outputs": [],
   "source": [
    "#Elimino Nulls  \n",
    "df_Users_Items.dropna(inplace=True) "
   ]
  },
  {
   "cell_type": "code",
   "execution_count": 10,
   "metadata": {},
   "outputs": [
    {
     "data": {
      "text/plain": [
       "0          0\n",
       "1          0\n",
       "2          0\n",
       "3          0\n",
       "4          0\n",
       "          ..\n",
       "5170009    0\n",
       "5170010    0\n",
       "5170011    3\n",
       "5170012    4\n",
       "5170013    3\n",
       "Name: items, Length: 5153209, dtype: int64"
      ]
     },
     "execution_count": 10,
     "metadata": {},
     "output_type": "execute_result"
    }
   ],
   "source": [
    "#Elimino key 'playtime_2weeks'\n",
    "df_Users_Items['items'].apply(lambda x : x.pop('playtime_2weeks'))"
   ]
  },
  {
   "cell_type": "code",
   "execution_count": 12,
   "metadata": {},
   "outputs": [
    {
     "data": {
      "text/plain": [
       "0          None\n",
       "1          None\n",
       "2          None\n",
       "3          None\n",
       "4          None\n",
       "           ... \n",
       "5170009    None\n",
       "5170010    None\n",
       "5170011    None\n",
       "5170012    None\n",
       "5170013    None\n",
       "Name: items, Length: 5153209, dtype: object"
      ]
     },
     "execution_count": 12,
     "metadata": {},
     "output_type": "execute_result"
    }
   ],
   "source": [
    "#Modifico tipo de dato, str --> int\n",
    "def toInt(dic):\n",
    "    dic['item_id']=int(dic['item_id'])\n",
    "\n",
    "df_Users_Items['items'].apply(lambda x: toInt(x))"
   ]
  },
  {
   "cell_type": "code",
   "execution_count": 27,
   "metadata": {},
   "outputs": [
    {
     "data": {
      "text/plain": [
       "0"
      ]
     },
     "execution_count": 27,
     "metadata": {},
     "output_type": "execute_result"
    }
   ],
   "source": [
    "def itemsId_Null(fila):\n",
    "    return fila['items']['item_name']==''\n",
    "\n",
    "df_Users_Items.apply(itemsId_Null, axis=1).sum()"
   ]
  },
  {
   "cell_type": "markdown",
   "metadata": {},
   "source": [
    "Consultas df_Users_Items"
   ]
  },
  {
   "cell_type": "code",
   "execution_count": 116,
   "metadata": {},
   "outputs": [
    {
     "data": {
      "text/plain": [
       "0"
      ]
     },
     "execution_count": 116,
     "metadata": {},
     "output_type": "execute_result"
    }
   ],
   "source": [
    "#Se encuentra algun item_name con el valor CS, Counter, Strike, Counter-Strike? \n",
    "def existe_CS(fila):\n",
    "    return fila['item_name']=='Strike'\n",
    "\n",
    "df_Users_Items['items'].apply(lambda x: existe_CS(x)).sum()"
   ]
  },
  {
   "cell_type": "markdown",
   "metadata": {},
   "source": [
    "Lectura output_steam_games.json"
   ]
  },
  {
   "cell_type": "code",
   "execution_count": 80,
   "metadata": {},
   "outputs": [],
   "source": [
    "df = pd.read_json('C:\\\\Users\\\\Usuario\\\\Desktop\\\\PI_MLOps\\\\dataset_original\\\\output_steam_games.json', lines=True)"
   ]
  },
  {
   "cell_type": "markdown",
   "metadata": {},
   "source": [
    "Transform DataFrame"
   ]
  },
  {
   "cell_type": "code",
   "execution_count": 81,
   "metadata": {},
   "outputs": [],
   "source": [
    "#Creo df unicamente con los siguientes campos: {genres, app_name, id}\n",
    "df_Steam_Games = df[['genres','app_name','id']]"
   ]
  },
  {
   "cell_type": "code",
   "execution_count": 82,
   "metadata": {},
   "outputs": [
    {
     "name": "stderr",
     "output_type": "stream",
     "text": [
      "C:\\Users\\Usuario\\AppData\\Local\\Temp\\ipykernel_7576\\1082775196.py:2: SettingWithCopyWarning: \n",
      "A value is trying to be set on a copy of a slice from a DataFrame\n",
      "\n",
      "See the caveats in the documentation: https://pandas.pydata.org/pandas-docs/stable/user_guide/indexing.html#returning-a-view-versus-a-copy\n",
      "  df_Steam_Games.dropna(inplace=True)\n"
     ]
    }
   ],
   "source": [
    "#Elimino nulos \n",
    "df_Steam_Games.dropna(inplace=True)"
   ]
  },
  {
   "cell_type": "code",
   "execution_count": 83,
   "metadata": {},
   "outputs": [],
   "source": [
    "#Reset index\n",
    "df_Steam_Games.reset_index(drop=True, inplace=True)"
   ]
  },
  {
   "cell_type": "code",
   "execution_count": 119,
   "metadata": {},
   "outputs": [
    {
     "name": "stderr",
     "output_type": "stream",
     "text": [
      "C:\\Users\\Usuario\\AppData\\Local\\Temp\\ipykernel_7576\\1772122932.py:10: SettingWithCopyWarning: \n",
      "A value is trying to be set on a copy of a slice from a DataFrame.\n",
      "Try using .loc[row_indexer,col_indexer] = value instead\n",
      "\n",
      "See the caveats in the documentation: https://pandas.pydata.org/pandas-docs/stable/user_guide/indexing.html#returning-a-view-versus-a-copy\n",
      "  df_Steam_Games['id'] = df_Steam_Games['id'].apply(lambda x: to_Int(x)).dropna()\n"
     ]
    }
   ],
   "source": [
    "#Convertir a entero la comlumna 'id'\n",
    "def to_Int(nro):\n",
    "    try:\n",
    "        #Try to convert\n",
    "        return int(nro)\n",
    "    except ValueError:\n",
    "        #catch error\n",
    "        return None\n",
    "    \n",
    "df_Steam_Games['id'] = df_Steam_Games['id'].apply(lambda x: to_Int(x)).dropna()"
   ]
  },
  {
   "cell_type": "code",
   "execution_count": 120,
   "metadata": {},
   "outputs": [
    {
     "data": {
      "text/html": [
       "<div>\n",
       "<style scoped>\n",
       "    .dataframe tbody tr th:only-of-type {\n",
       "        vertical-align: middle;\n",
       "    }\n",
       "\n",
       "    .dataframe tbody tr th {\n",
       "        vertical-align: top;\n",
       "    }\n",
       "\n",
       "    .dataframe thead th {\n",
       "        text-align: right;\n",
       "    }\n",
       "</style>\n",
       "<table border=\"1\" class=\"dataframe\">\n",
       "  <thead>\n",
       "    <tr style=\"text-align: right;\">\n",
       "      <th></th>\n",
       "      <th>genres</th>\n",
       "      <th>app_name</th>\n",
       "      <th>id</th>\n",
       "    </tr>\n",
       "  </thead>\n",
       "  <tbody>\n",
       "    <tr>\n",
       "      <th>0</th>\n",
       "      <td>[Action, Casual, Indie, Simulation, Strategy]</td>\n",
       "      <td>Lost Summoner Kitty</td>\n",
       "      <td>761140</td>\n",
       "    </tr>\n",
       "    <tr>\n",
       "      <th>1</th>\n",
       "      <td>[Free to Play, Indie, RPG, Strategy]</td>\n",
       "      <td>Ironbound</td>\n",
       "      <td>643980</td>\n",
       "    </tr>\n",
       "    <tr>\n",
       "      <th>2</th>\n",
       "      <td>[Casual, Free to Play, Indie, Simulation, Sports]</td>\n",
       "      <td>Real Pool 3D - Poolians</td>\n",
       "      <td>670290</td>\n",
       "    </tr>\n",
       "    <tr>\n",
       "      <th>3</th>\n",
       "      <td>[Action, Adventure, Casual]</td>\n",
       "      <td>弹炸人2222</td>\n",
       "      <td>767400</td>\n",
       "    </tr>\n",
       "    <tr>\n",
       "      <th>4</th>\n",
       "      <td>[Action, Adventure, Simulation]</td>\n",
       "      <td>Battle Royale Trainer</td>\n",
       "      <td>772540</td>\n",
       "    </tr>\n",
       "    <tr>\n",
       "      <th>...</th>\n",
       "      <td>...</td>\n",
       "      <td>...</td>\n",
       "      <td>...</td>\n",
       "    </tr>\n",
       "    <tr>\n",
       "      <th>28845</th>\n",
       "      <td>[Action, Adventure, Casual, Indie]</td>\n",
       "      <td>Kebab it Up!</td>\n",
       "      <td>745400</td>\n",
       "    </tr>\n",
       "    <tr>\n",
       "      <th>28846</th>\n",
       "      <td>[Casual, Indie, Simulation, Strategy]</td>\n",
       "      <td>Colony On Mars</td>\n",
       "      <td>773640</td>\n",
       "    </tr>\n",
       "    <tr>\n",
       "      <th>28847</th>\n",
       "      <td>[Casual, Indie, Strategy]</td>\n",
       "      <td>LOGistICAL: South Africa</td>\n",
       "      <td>733530</td>\n",
       "    </tr>\n",
       "    <tr>\n",
       "      <th>28848</th>\n",
       "      <td>[Indie, Racing, Simulation]</td>\n",
       "      <td>Russian Roads</td>\n",
       "      <td>610660</td>\n",
       "    </tr>\n",
       "    <tr>\n",
       "      <th>28849</th>\n",
       "      <td>[Casual, Indie]</td>\n",
       "      <td>EXIT 2 - Directions</td>\n",
       "      <td>658870</td>\n",
       "    </tr>\n",
       "  </tbody>\n",
       "</table>\n",
       "<p>28850 rows × 3 columns</p>\n",
       "</div>"
      ],
      "text/plain": [
       "                                                  genres  \\\n",
       "0          [Action, Casual, Indie, Simulation, Strategy]   \n",
       "1                   [Free to Play, Indie, RPG, Strategy]   \n",
       "2      [Casual, Free to Play, Indie, Simulation, Sports]   \n",
       "3                            [Action, Adventure, Casual]   \n",
       "4                        [Action, Adventure, Simulation]   \n",
       "...                                                  ...   \n",
       "28845                 [Action, Adventure, Casual, Indie]   \n",
       "28846              [Casual, Indie, Simulation, Strategy]   \n",
       "28847                          [Casual, Indie, Strategy]   \n",
       "28848                        [Indie, Racing, Simulation]   \n",
       "28849                                    [Casual, Indie]   \n",
       "\n",
       "                       app_name      id  \n",
       "0           Lost Summoner Kitty  761140  \n",
       "1                     Ironbound  643980  \n",
       "2       Real Pool 3D - Poolians  670290  \n",
       "3                       弹炸人2222  767400  \n",
       "4         Battle Royale Trainer  772540  \n",
       "...                         ...     ...  \n",
       "28845              Kebab it Up!  745400  \n",
       "28846            Colony On Mars  773640  \n",
       "28847  LOGistICAL: South Africa  733530  \n",
       "28848             Russian Roads  610660  \n",
       "28849       EXIT 2 - Directions  658870  \n",
       "\n",
       "[28850 rows x 3 columns]"
      ]
     },
     "execution_count": 120,
     "metadata": {},
     "output_type": "execute_result"
    }
   ],
   "source": [
    "df_Steam_Games"
   ]
  },
  {
   "cell_type": "markdown",
   "metadata": {},
   "source": [
    "Consultas df_Steam_Games"
   ]
  },
  {
   "cell_type": "code",
   "execution_count": 136,
   "metadata": {},
   "outputs": [
    {
     "data": {
      "text/plain": [
       "count        28850\n",
       "unique         883\n",
       "top       [Action]\n",
       "freq          1880\n",
       "Name: genres, dtype: object"
      ]
     },
     "execution_count": 136,
     "metadata": {},
     "output_type": "execute_result"
    }
   ],
   "source": [
    "#Tipo de dato, columna 'genres'\n",
    "df_Steam_Games['genres'].describe()"
   ]
  },
  {
   "cell_type": "code",
   "execution_count": 118,
   "metadata": {},
   "outputs": [
    {
     "data": {
      "text/plain": [
       "numpy.float64"
      ]
     },
     "execution_count": 118,
     "metadata": {},
     "output_type": "execute_result"
    }
   ],
   "source": [
    "#Tipo de dato, columna 'id'\n",
    "type(df_Steam_Games['id'][0])"
   ]
  },
  {
   "cell_type": "code",
   "execution_count": 92,
   "metadata": {},
   "outputs": [
    {
     "data": {
      "text/plain": [
       "0"
      ]
     },
     "execution_count": 92,
     "metadata": {},
     "output_type": "execute_result"
    }
   ],
   "source": [
    "df_Steam_Games['app_name'].isna().sum()"
   ]
  },
  {
   "cell_type": "code",
   "execution_count": 107,
   "metadata": {},
   "outputs": [
    {
     "data": {
      "text/plain": [
       "0    None\n",
       "Name: app_name, dtype: object"
      ]
     },
     "execution_count": 107,
     "metadata": {},
     "output_type": "execute_result"
    }
   ],
   "source": [
    "#Busco juego 'Counter-Strike'\n",
    "def existe_CS(fila):\n",
    "    if (fila =='Strike'):\n",
    "        return True \n",
    "\n",
    "df_Steam_Games['app_name'].apply(lambda x: existe_CS(x)).drop_duplicates()"
   ]
  },
  {
   "cell_type": "code",
   "execution_count": 47,
   "metadata": {},
   "outputs": [
    {
     "name": "stdout",
     "output_type": "stream",
     "text": [
      "<class 'pandas.core.frame.DataFrame'>\n",
      "RangeIndex: 120445 entries, 0 to 120444\n",
      "Data columns (total 13 columns):\n",
      " #   Column        Non-Null Count  Dtype  \n",
      "---  ------        --------------  -----  \n",
      " 0   publisher     24083 non-null  object \n",
      " 1   genres        28852 non-null  object \n",
      " 2   app_name      32133 non-null  object \n",
      " 3   title         30085 non-null  object \n",
      " 4   url           32135 non-null  object \n",
      " 5   release_date  30068 non-null  object \n",
      " 6   tags          31972 non-null  object \n",
      " 7   reviews_url   32133 non-null  object \n",
      " 8   specs         31465 non-null  object \n",
      " 9   price         30758 non-null  object \n",
      " 10  early_access  32135 non-null  float64\n",
      " 11  id            32133 non-null  float64\n",
      " 12  developer     28836 non-null  object \n",
      "dtypes: float64(2), object(11)\n",
      "memory usage: 11.9+ MB\n"
     ]
    }
   ],
   "source": [
    "#Detalle del df\n",
    "df.info()"
   ]
  },
  {
   "cell_type": "code",
   "execution_count": 137,
   "metadata": {},
   "outputs": [
    {
     "name": "stdout",
     "output_type": "stream",
     "text": [
      "<class 'pandas.core.frame.DataFrame'>\n",
      "RangeIndex: 28850 entries, 0 to 28849\n",
      "Data columns (total 3 columns):\n",
      " #   Column    Non-Null Count  Dtype \n",
      "---  ------    --------------  ----- \n",
      " 0   genres    28850 non-null  object\n",
      " 1   app_name  28850 non-null  object\n",
      " 2   id        28850 non-null  int64 \n",
      "dtypes: int64(1), object(2)\n",
      "memory usage: 676.3+ KB\n"
     ]
    }
   ],
   "source": [
    "#Detalles del df_Steam_Games\n",
    "df_Steam_Games.info()"
   ]
  },
  {
   "cell_type": "code",
   "execution_count": 50,
   "metadata": {},
   "outputs": [
    {
     "data": {
      "text/plain": [
       "genres      91593\n",
       "app_name    88312\n",
       "id          88312\n",
       "dtype: int64"
      ]
     },
     "execution_count": 50,
     "metadata": {},
     "output_type": "execute_result"
    }
   ],
   "source": [
    "#Cantidad de nulos\n",
    "df_Steam_Games.isna().sum()"
   ]
  },
  {
   "cell_type": "code",
   "execution_count": 57,
   "metadata": {},
   "outputs": [
    {
     "data": {
      "text/plain": [
       "genres      0\n",
       "app_name    0\n",
       "id          0\n",
       "dtype: int64"
      ]
     },
     "execution_count": 57,
     "metadata": {},
     "output_type": "execute_result"
    }
   ],
   "source": [
    "#Verifico la eliminacion de los valores nulos"
   ]
  }
 ],
 "metadata": {
  "kernelspec": {
   "display_name": "EntMLOps",
   "language": "python",
   "name": "python3"
  },
  "language_info": {
   "codemirror_mode": {
    "name": "ipython",
    "version": 3
   },
   "file_extension": ".py",
   "mimetype": "text/x-python",
   "name": "python",
   "nbconvert_exporter": "python",
   "pygments_lexer": "ipython3",
   "version": "3.11.3"
  }
 },
 "nbformat": 4,
 "nbformat_minor": 2
}
