{
 "cells": [
  {
   "cell_type": "markdown",
   "metadata": {},
   "source": [
    "**Libreria <a href=\"https://pandas.pydata.org/docs/getting_started/index.html\"> Pandas**</a>\n",
    "\n",
    "*Permite el procesamiento de datos sobre dataframes*"
   ]
  },
  {
   "cell_type": "code",
   "execution_count": 1,
   "metadata": {},
   "outputs": [],
   "source": [
    "import pandas as pd"
   ]
  },
  {
   "cell_type": "markdown",
   "metadata": {},
   "source": [
    "**Libreria  <a href=\"https://docs.python.org/3.12/library/ast.html\"> Abstract Syntax Trees**</a>\n",
    "\n",
    "*Permite la lectura literal de la linea*"
   ]
  },
  {
   "cell_type": "code",
   "execution_count": 2,
   "metadata": {},
   "outputs": [],
   "source": [
    "import ast"
   ]
  },
  {
   "cell_type": "markdown",
   "metadata": {},
   "source": [
    "# **Extraction**  "
   ]
  },
  {
   "cell_type": "code",
   "execution_count": 3,
   "metadata": {},
   "outputs": [],
   "source": [
    "list = []\n",
    "for line in open('G:\\\\My Drive\\\\IT\\\\dataset\\\\australian_user_reviews.json', encoding='utf-8').readlines(): # australian_user_reviews.json\n",
    "    list.append(ast.literal_eval(line))\n",
    "df_australian_User_Reviews = pd.DataFrame.from_dict(list)"
   ]
  },
  {
   "cell_type": "code",
   "execution_count": 4,
   "metadata": {},
   "outputs": [],
   "source": [
    "list = []\n",
    "for line in open('G:\\\\My Drive\\\\IT\\\\dataset\\\\australian_users_items.json', encoding='utf-8').readlines(): # australian_users_items.json\n",
    "    list.append(ast.literal_eval(line))\n",
    "df_australian_User_Items = pd.DataFrame.from_dict(list)"
   ]
  },
  {
   "cell_type": "code",
   "execution_count": 5,
   "metadata": {},
   "outputs": [],
   "source": [
    "df_output_Steam_Games = pd.read_json('G:\\\\My Drive\\\\IT\\\\dataset\\\\output_steam_games.json', lines=True) #output_steam_games.json"
   ]
  },
  {
   "cell_type": "markdown",
   "metadata": {},
   "source": [
    "# **Transform**"
   ]
  },
  {
   "cell_type": "markdown",
   "metadata": {},
   "source": [
    "**`df_User_Reviews`**"
   ]
  },
  {
   "cell_type": "code",
   "execution_count": 17,
   "metadata": {},
   "outputs": [],
   "source": [
    "#Creo df_User_Reviews'\n",
    "df_Reviews = df_australian_User_Reviews[['user_id','reviews']]"
   ]
  },
  {
   "cell_type": "code",
   "execution_count": 18,
   "metadata": {},
   "outputs": [],
   "source": [
    "#Desanido los valores de 'reviews'\n",
    "df_Reviews = df_Reviews.explode('reviews')"
   ]
  },
  {
   "cell_type": "code",
   "execution_count": 19,
   "metadata": {},
   "outputs": [],
   "source": [
    "#Reseteo el index \n",
    "df_Reviews.reset_index(drop=True, inplace=True)"
   ]
  },
  {
   "cell_type": "code",
   "execution_count": 20,
   "metadata": {},
   "outputs": [],
   "source": [
    "#Normalizo la columna 'reviews'\n",
    "reviews_normalizado = pd.json_normalize(df_Reviews['reviews'])"
   ]
  },
  {
   "cell_type": "code",
   "execution_count": 21,
   "metadata": {},
   "outputs": [],
   "source": [
    "#Concateno la columna 'reviews' normalizada, con el df original.\n",
    "df_Reviews = pd.concat([df_Reviews.drop(columns=['reviews']), reviews_normalizado], axis=1)"
   ]
  },
  {
   "cell_type": "code",
   "execution_count": 22,
   "metadata": {},
   "outputs": [],
   "source": [
    "#Elimino columnas 'last_edited', 'funny', 'helpful'\n",
    "df_Reviews = df_Reviews[['user_id','posted','item_id','recommend','review']]"
   ]
  },
  {
   "cell_type": "code",
   "execution_count": 23,
   "metadata": {},
   "outputs": [],
   "source": [
    "#Modifico el valor de la clave 'posted'    \n",
    "df_Reviews['posted'] = df_Reviews['posted'].replace(\"Posted \",\"\", regex=True) #Reemplazo 'Posted' --> ''\n",
    "df_Reviews['posted'] = df_Reviews['posted'].str.rstrip('.') #Eliminio '.' --> ''"
   ]
  },
  {
   "cell_type": "markdown",
   "metadata": {},
   "source": [
    "*Limpio las fechas que estan incompletas por la falta del año del posteo*"
   ]
  },
  {
   "cell_type": "code",
   "execution_count": 24,
   "metadata": {},
   "outputs": [],
   "source": [
    "#Seteo el tipo de dato de la columna 'posted'\n",
    "df_Reviews['posted'] = df_Reviews['posted'].apply(str)"
   ]
  },
  {
   "cell_type": "code",
   "execution_count": 25,
   "metadata": {},
   "outputs": [],
   "source": [
    "#Creo una funcion para corroborar que la fecha cumpla con: cantidad de caracteres de una fecha valida >12 y la presencia del separador ','\n",
    "def fecha_Valida(fecha):\n",
    "    return len(fecha) > 12 or ',' in fecha"
   ]
  },
  {
   "cell_type": "code",
   "execution_count": 26,
   "metadata": {},
   "outputs": [],
   "source": [
    "#Implemento la funcion sobre la columna 'posted'\n",
    "df_Reviews['posted'] = df_Reviews['posted'][df_Reviews['posted'].apply(fecha_Valida)] #Reutilizo df resultante como mascara booleana para eliminr las fechas incompletas"
   ]
  },
  {
   "cell_type": "code",
   "execution_count": 27,
   "metadata": {},
   "outputs": [],
   "source": [
    "#Elimino NaNs \n",
    "df_Reviews.dropna(inplace=True)"
   ]
  },
  {
   "cell_type": "markdown",
   "metadata": {},
   "source": [
    "*Importo `datetime`, para cambiar el formato de los valores de 'Posted' a '%d-%m-%Y'* "
   ]
  },
  {
   "cell_type": "code",
   "execution_count": 28,
   "metadata": {},
   "outputs": [],
   "source": [
    "#Seteo el tipo de dato de la columna 'posted' a datetime\n",
    "df_Reviews['posted'] = pd.to_datetime(df_Reviews['posted']) "
   ]
  },
  {
   "cell_type": "code",
   "execution_count": 29,
   "metadata": {},
   "outputs": [],
   "source": [
    "#Seteo el tipo de dato de la columna 'item_id' a int\n",
    "df_Reviews['item_id'] = df_Reviews['item_id'].apply(int)"
   ]
  },
  {
   "cell_type": "code",
   "execution_count": 30,
   "metadata": {},
   "outputs": [],
   "source": [
    "#Seteo el tipo de dato de la columna 'recomend' a int\n",
    "df_Reviews['recommend'] = df_Reviews['recommend'].apply(int)"
   ]
  },
  {
   "cell_type": "markdown",
   "metadata": {},
   "source": [
    "**Feature Engineering: Sentiments Analysis con <a href=\"https://www.nltk.org/\"> NLTK </a>** \n",
    " "
   ]
  },
  {
   "cell_type": "markdown",
   "metadata": {},
   "source": [
    "*Descargo<a href=\"https://www.nltk.org/nltk_data/\"> `VADER Sentiment Lexicon` </a>* \n",
    "\n",
    "*Contiene un conjunto de palabras con sus respectivos puntajes de polaridad, lo que ayuda a determinar la intensidad del sentimiento expresado en una frase.*"
   ]
  },
  {
   "cell_type": "code",
   "execution_count": 31,
   "metadata": {},
   "outputs": [
    {
     "name": "stderr",
     "output_type": "stream",
     "text": [
      "[nltk_data] Error loading vader_lexicon: <urlopen error [Errno 11001]\n",
      "[nltk_data]     getaddrinfo failed>\n"
     ]
    },
    {
     "data": {
      "text/plain": [
       "False"
      ]
     },
     "execution_count": 31,
     "metadata": {},
     "output_type": "execute_result"
    }
   ],
   "source": [
    "import nltk\n",
    "nltk.download('vader_lexicon')"
   ]
  },
  {
   "cell_type": "code",
   "execution_count": 32,
   "metadata": {},
   "outputs": [],
   "source": [
    "# Importo clase SentimentIntensityAnalyzer   \n",
    "from nltk.sentiment.vader import SentimentIntensityAnalyzer "
   ]
  },
  {
   "cell_type": "code",
   "execution_count": 33,
   "metadata": {},
   "outputs": [],
   "source": [
    "# Instancio SentimentIntensityAnalyzer\n",
    "sia = SentimentIntensityAnalyzer() "
   ]
  },
  {
   "cell_type": "code",
   "execution_count": 34,
   "metadata": {},
   "outputs": [],
   "source": [
    "# Implemento funcion 'polarity_scores' sobre df_User_Reviews\n",
    "df_Reviews['sentiment_analysis'] = df_Reviews['review'].apply(sia.polarity_scores)\n",
    "df_Reviews['sentiment_analysis'] = df_Reviews['sentiment_analysis'].apply(lambda row: row['compound']) #Espicifico la clave 'compound', porque resume la intesidad del sentimiento expresado en la frase "
   ]
  },
  {
   "cell_type": "code",
   "execution_count": 35,
   "metadata": {},
   "outputs": [],
   "source": [
    "# Recategorizo la intensidad del sentimiento expresado en cada frase\n",
    "\"\"\" Nueva Escala\n",
    "        \n",
    "        POSITIVO -> 2\n",
    "        NEUTRO -> 1\n",
    "        NEGATIVO -> 0\n",
    "\n",
    " \"\"\" \n",
    "\n",
    "def recategorizar(int):\n",
    "    if(int>0):\n",
    "        return 2\n",
    "    else:\n",
    "        if(abs(int) == 0):\n",
    "            return 1\n",
    "        else:\n",
    "            return 0 \n",
    "        \n",
    "df_Reviews['sentiment_analysis'] = df_Reviews['sentiment_analysis'].apply(recategorizar)"
   ]
  },
  {
   "cell_type": "markdown",
   "metadata": {},
   "source": [
    "**`df_Users_Items`**"
   ]
  },
  {
   "cell_type": "code",
   "execution_count": 57,
   "metadata": {},
   "outputs": [],
   "source": [
    "#Creo df_Users_Items'\n",
    "df_Items = df_australian_User_Items[['user_id','items_count','items']]"
   ]
  },
  {
   "cell_type": "code",
   "execution_count": 58,
   "metadata": {},
   "outputs": [],
   "source": [
    "#Desanido 'items'\n",
    "df_Items=df_Items.explode('items')"
   ]
  },
  {
   "cell_type": "code",
   "execution_count": 59,
   "metadata": {},
   "outputs": [],
   "source": [
    "#Reseteo Index\n",
    "df_Items.reset_index(drop=True, inplace=True)"
   ]
  },
  {
   "cell_type": "code",
   "execution_count": 60,
   "metadata": {},
   "outputs": [],
   "source": [
    "#Normalizo la columna 'items'\n",
    "items_normalizado = pd.json_normalize(df_Items['items'])"
   ]
  },
  {
   "cell_type": "code",
   "execution_count": 61,
   "metadata": {},
   "outputs": [],
   "source": [
    "#Concateno la columna 'items' normalizada, con el df original.\n",
    "df_Items = pd.concat([df_Items.drop(columns=['items']), items_normalizado], axis=1)"
   ]
  },
  {
   "cell_type": "code",
   "execution_count": 62,
   "metadata": {},
   "outputs": [],
   "source": [
    "#Elimino nulos\n",
    "df_Items.dropna(inplace=True) "
   ]
  },
  {
   "cell_type": "code",
   "execution_count": 63,
   "metadata": {},
   "outputs": [],
   "source": [
    "#Elimino columna 'playtime_2weeks', 'item_name', porque no son datos relevantes en el desarrollo del trabajo y reduce el tamaño del df. \n",
    "df_Items = df_Items[['user_id','items_count','item_id','playtime_forever']]"
   ]
  },
  {
   "cell_type": "code",
   "execution_count": 64,
   "metadata": {},
   "outputs": [],
   "source": [
    "#Seteo el tipo de dato de la columna 'item_id' a int\n",
    "#Motivo, conociendo los tipos de valores de clave es mas sencillo trabajar con int, antes que str.\n",
    "df_Items['item_id'] = df_Items['item_id'].apply(int)"
   ]
  },
  {
   "cell_type": "code",
   "execution_count": 68,
   "metadata": {},
   "outputs": [],
   "source": [
    "df_Items['playtime_forever'] = df_Items['playtime_forever'].apply(int)"
   ]
  },
  {
   "cell_type": "code",
   "execution_count": 75,
   "metadata": {},
   "outputs": [
    {
     "data": {
      "text/html": [
       "<div>\n",
       "<style scoped>\n",
       "    .dataframe tbody tr th:only-of-type {\n",
       "        vertical-align: middle;\n",
       "    }\n",
       "\n",
       "    .dataframe tbody tr th {\n",
       "        vertical-align: top;\n",
       "    }\n",
       "\n",
       "    .dataframe thead th {\n",
       "        text-align: right;\n",
       "    }\n",
       "</style>\n",
       "<table border=\"1\" class=\"dataframe\">\n",
       "  <thead>\n",
       "    <tr style=\"text-align: right;\">\n",
       "      <th></th>\n",
       "      <th>user_id</th>\n",
       "      <th>posted</th>\n",
       "      <th>item_id</th>\n",
       "      <th>recommend</th>\n",
       "      <th>review</th>\n",
       "      <th>sentiment_analysis</th>\n",
       "    </tr>\n",
       "  </thead>\n",
       "  <tbody>\n",
       "    <tr>\n",
       "      <th>0</th>\n",
       "      <td>76561197970982479</td>\n",
       "      <td>2011-11-05</td>\n",
       "      <td>1250</td>\n",
       "      <td>1</td>\n",
       "      <td>Simple yet with great replayability. In my opi...</td>\n",
       "      <td>2</td>\n",
       "    </tr>\n",
       "    <tr>\n",
       "      <th>1</th>\n",
       "      <td>76561197970982479</td>\n",
       "      <td>2011-07-15</td>\n",
       "      <td>22200</td>\n",
       "      <td>1</td>\n",
       "      <td>It's unique and worth a playthrough.</td>\n",
       "      <td>2</td>\n",
       "    </tr>\n",
       "    <tr>\n",
       "      <th>2</th>\n",
       "      <td>76561197970982479</td>\n",
       "      <td>2011-04-21</td>\n",
       "      <td>43110</td>\n",
       "      <td>1</td>\n",
       "      <td>Great atmosphere. The gunplay can be a bit chu...</td>\n",
       "      <td>2</td>\n",
       "    </tr>\n",
       "    <tr>\n",
       "      <th>3</th>\n",
       "      <td>js41637</td>\n",
       "      <td>2014-06-24</td>\n",
       "      <td>251610</td>\n",
       "      <td>1</td>\n",
       "      <td>I know what you think when you see this title ...</td>\n",
       "      <td>2</td>\n",
       "    </tr>\n",
       "    <tr>\n",
       "      <th>4</th>\n",
       "      <td>js41637</td>\n",
       "      <td>2013-09-08</td>\n",
       "      <td>227300</td>\n",
       "      <td>1</td>\n",
       "      <td>For a simple (it's actually not all that simpl...</td>\n",
       "      <td>2</td>\n",
       "    </tr>\n",
       "    <tr>\n",
       "      <th>...</th>\n",
       "      <td>...</td>\n",
       "      <td>...</td>\n",
       "      <td>...</td>\n",
       "      <td>...</td>\n",
       "      <td>...</td>\n",
       "      <td>...</td>\n",
       "    </tr>\n",
       "    <tr>\n",
       "      <th>59280</th>\n",
       "      <td>wayfeng</td>\n",
       "      <td>2015-10-14</td>\n",
       "      <td>730</td>\n",
       "      <td>1</td>\n",
       "      <td>its FUNNNNNNNN</td>\n",
       "      <td>1</td>\n",
       "    </tr>\n",
       "    <tr>\n",
       "      <th>59283</th>\n",
       "      <td>76561198251004808</td>\n",
       "      <td>2015-10-10</td>\n",
       "      <td>253980</td>\n",
       "      <td>1</td>\n",
       "      <td>Awesome fantasy game if you don't mind the gra...</td>\n",
       "      <td>2</td>\n",
       "    </tr>\n",
       "    <tr>\n",
       "      <th>59293</th>\n",
       "      <td>72947282842</td>\n",
       "      <td>2015-10-31</td>\n",
       "      <td>730</td>\n",
       "      <td>1</td>\n",
       "      <td>Prettyy Mad Game</td>\n",
       "      <td>0</td>\n",
       "    </tr>\n",
       "    <tr>\n",
       "      <th>59295</th>\n",
       "      <td>ApxLGhost</td>\n",
       "      <td>2015-12-14</td>\n",
       "      <td>730</td>\n",
       "      <td>1</td>\n",
       "      <td>AMAZING GAME 10/10</td>\n",
       "      <td>2</td>\n",
       "    </tr>\n",
       "    <tr>\n",
       "      <th>59304</th>\n",
       "      <td>76561198267374962</td>\n",
       "      <td>2015-12-29</td>\n",
       "      <td>369200</td>\n",
       "      <td>1</td>\n",
       "      <td>Why I voted yes? 1. Girl characters have boobs...</td>\n",
       "      <td>2</td>\n",
       "    </tr>\n",
       "  </tbody>\n",
       "</table>\n",
       "<p>49186 rows × 6 columns</p>\n",
       "</div>"
      ],
      "text/plain": [
       "                 user_id     posted  item_id  recommend  \\\n",
       "0      76561197970982479 2011-11-05     1250          1   \n",
       "1      76561197970982479 2011-07-15    22200          1   \n",
       "2      76561197970982479 2011-04-21    43110          1   \n",
       "3                js41637 2014-06-24   251610          1   \n",
       "4                js41637 2013-09-08   227300          1   \n",
       "...                  ...        ...      ...        ...   \n",
       "59280            wayfeng 2015-10-14      730          1   \n",
       "59283  76561198251004808 2015-10-10   253980          1   \n",
       "59293        72947282842 2015-10-31      730          1   \n",
       "59295          ApxLGhost 2015-12-14      730          1   \n",
       "59304  76561198267374962 2015-12-29   369200          1   \n",
       "\n",
       "                                                  review  sentiment_analysis  \n",
       "0      Simple yet with great replayability. In my opi...                   2  \n",
       "1                   It's unique and worth a playthrough.                   2  \n",
       "2      Great atmosphere. The gunplay can be a bit chu...                   2  \n",
       "3      I know what you think when you see this title ...                   2  \n",
       "4      For a simple (it's actually not all that simpl...                   2  \n",
       "...                                                  ...                 ...  \n",
       "59280                                     its FUNNNNNNNN                   1  \n",
       "59283  Awesome fantasy game if you don't mind the gra...                   2  \n",
       "59293                                   Prettyy Mad Game                   0  \n",
       "59295                                 AMAZING GAME 10/10                   2  \n",
       "59304  Why I voted yes? 1. Girl characters have boobs...                   2  \n",
       "\n",
       "[49186 rows x 6 columns]"
      ]
     },
     "execution_count": 75,
     "metadata": {},
     "output_type": "execute_result"
    }
   ],
   "source": [
    "df_Reviews"
   ]
  },
  {
   "cell_type": "code",
   "execution_count": 69,
   "metadata": {},
   "outputs": [
    {
     "data": {
      "text/html": [
       "<div>\n",
       "<style scoped>\n",
       "    .dataframe tbody tr th:only-of-type {\n",
       "        vertical-align: middle;\n",
       "    }\n",
       "\n",
       "    .dataframe tbody tr th {\n",
       "        vertical-align: top;\n",
       "    }\n",
       "\n",
       "    .dataframe thead th {\n",
       "        text-align: right;\n",
       "    }\n",
       "</style>\n",
       "<table border=\"1\" class=\"dataframe\">\n",
       "  <thead>\n",
       "    <tr style=\"text-align: right;\">\n",
       "      <th></th>\n",
       "      <th>user_id</th>\n",
       "      <th>items_count</th>\n",
       "      <th>item_id</th>\n",
       "      <th>playtime_forever</th>\n",
       "    </tr>\n",
       "  </thead>\n",
       "  <tbody>\n",
       "    <tr>\n",
       "      <th>0</th>\n",
       "      <td>76561197970982479</td>\n",
       "      <td>277</td>\n",
       "      <td>10</td>\n",
       "      <td>6</td>\n",
       "    </tr>\n",
       "    <tr>\n",
       "      <th>1</th>\n",
       "      <td>76561197970982479</td>\n",
       "      <td>277</td>\n",
       "      <td>20</td>\n",
       "      <td>0</td>\n",
       "    </tr>\n",
       "    <tr>\n",
       "      <th>2</th>\n",
       "      <td>76561197970982479</td>\n",
       "      <td>277</td>\n",
       "      <td>30</td>\n",
       "      <td>7</td>\n",
       "    </tr>\n",
       "    <tr>\n",
       "      <th>3</th>\n",
       "      <td>76561197970982479</td>\n",
       "      <td>277</td>\n",
       "      <td>40</td>\n",
       "      <td>0</td>\n",
       "    </tr>\n",
       "    <tr>\n",
       "      <th>4</th>\n",
       "      <td>76561197970982479</td>\n",
       "      <td>277</td>\n",
       "      <td>50</td>\n",
       "      <td>0</td>\n",
       "    </tr>\n",
       "    <tr>\n",
       "      <th>...</th>\n",
       "      <td>...</td>\n",
       "      <td>...</td>\n",
       "      <td>...</td>\n",
       "      <td>...</td>\n",
       "    </tr>\n",
       "    <tr>\n",
       "      <th>5170009</th>\n",
       "      <td>76561198329548331</td>\n",
       "      <td>7</td>\n",
       "      <td>346330</td>\n",
       "      <td>0</td>\n",
       "    </tr>\n",
       "    <tr>\n",
       "      <th>5170010</th>\n",
       "      <td>76561198329548331</td>\n",
       "      <td>7</td>\n",
       "      <td>373330</td>\n",
       "      <td>0</td>\n",
       "    </tr>\n",
       "    <tr>\n",
       "      <th>5170011</th>\n",
       "      <td>76561198329548331</td>\n",
       "      <td>7</td>\n",
       "      <td>388490</td>\n",
       "      <td>3</td>\n",
       "    </tr>\n",
       "    <tr>\n",
       "      <th>5170012</th>\n",
       "      <td>76561198329548331</td>\n",
       "      <td>7</td>\n",
       "      <td>521570</td>\n",
       "      <td>4</td>\n",
       "    </tr>\n",
       "    <tr>\n",
       "      <th>5170013</th>\n",
       "      <td>76561198329548331</td>\n",
       "      <td>7</td>\n",
       "      <td>519140</td>\n",
       "      <td>3</td>\n",
       "    </tr>\n",
       "  </tbody>\n",
       "</table>\n",
       "<p>5153209 rows × 4 columns</p>\n",
       "</div>"
      ],
      "text/plain": [
       "                   user_id  items_count  item_id  playtime_forever\n",
       "0        76561197970982479          277       10                 6\n",
       "1        76561197970982479          277       20                 0\n",
       "2        76561197970982479          277       30                 7\n",
       "3        76561197970982479          277       40                 0\n",
       "4        76561197970982479          277       50                 0\n",
       "...                    ...          ...      ...               ...\n",
       "5170009  76561198329548331            7   346330                 0\n",
       "5170010  76561198329548331            7   373330                 0\n",
       "5170011  76561198329548331            7   388490                 3\n",
       "5170012  76561198329548331            7   521570                 4\n",
       "5170013  76561198329548331            7   519140                 3\n",
       "\n",
       "[5153209 rows x 4 columns]"
      ]
     },
     "execution_count": 69,
     "metadata": {},
     "output_type": "execute_result"
    }
   ],
   "source": [
    "df_Items"
   ]
  },
  {
   "cell_type": "markdown",
   "metadata": {},
   "source": [
    "**`df_Steam_Games`**"
   ]
  },
  {
   "cell_type": "code",
   "execution_count": 50,
   "metadata": {},
   "outputs": [],
   "source": [
    "#Creo df unicamente con los siguientes campos: {genres, app_name, id, app_name}\n",
    "#Porque el resto de la columna no aportan datos relevantes para la implementacion de las funciones con la API.\n",
    "df_Games = df_output_Steam_Games[['id','genres']]"
   ]
  },
  {
   "cell_type": "code",
   "execution_count": 51,
   "metadata": {},
   "outputs": [
    {
     "name": "stderr",
     "output_type": "stream",
     "text": [
      "C:\\Users\\Usuario\\AppData\\Local\\Temp\\ipykernel_12948\\1541470593.py:2: SettingWithCopyWarning: \n",
      "A value is trying to be set on a copy of a slice from a DataFrame\n",
      "\n",
      "See the caveats in the documentation: https://pandas.pydata.org/pandas-docs/stable/user_guide/indexing.html#returning-a-view-versus-a-copy\n",
      "  df_Games.dropna(inplace=True)\n"
     ]
    }
   ],
   "source": [
    "#Elimino nulos \n",
    "df_Games.dropna(inplace=True)"
   ]
  },
  {
   "cell_type": "code",
   "execution_count": 52,
   "metadata": {},
   "outputs": [
    {
     "name": "stderr",
     "output_type": "stream",
     "text": [
      "C:\\Users\\Usuario\\AppData\\Local\\Temp\\ipykernel_12948\\1246554794.py:2: SettingWithCopyWarning: \n",
      "A value is trying to be set on a copy of a slice from a DataFrame.\n",
      "Try using .loc[row_indexer,col_indexer] = value instead\n",
      "\n",
      "See the caveats in the documentation: https://pandas.pydata.org/pandas-docs/stable/user_guide/indexing.html#returning-a-view-versus-a-copy\n",
      "  df_Games['id'] = df_Games['id'].apply(int)\n"
     ]
    }
   ],
   "source": [
    "#Seteo el tipo de dato de la comlumna 'id' a int\n",
    "df_Games['id'] = df_Games['id'].apply(int)"
   ]
  },
  {
   "cell_type": "code",
   "execution_count": 53,
   "metadata": {},
   "outputs": [],
   "source": [
    "df_Games = df_Games.explode('genres')"
   ]
  },
  {
   "cell_type": "code",
   "execution_count": 54,
   "metadata": {},
   "outputs": [],
   "source": [
    "#Reset index\n",
    "df_Games.reset_index(drop=True, inplace=True)"
   ]
  },
  {
   "cell_type": "code",
   "execution_count": 72,
   "metadata": {},
   "outputs": [],
   "source": [
    "df_Games['genres'] = df_Games['genres'].apply(str.lower)"
   ]
  },
  {
   "cell_type": "code",
   "execution_count": 73,
   "metadata": {},
   "outputs": [
    {
     "data": {
      "text/html": [
       "<div>\n",
       "<style scoped>\n",
       "    .dataframe tbody tr th:only-of-type {\n",
       "        vertical-align: middle;\n",
       "    }\n",
       "\n",
       "    .dataframe tbody tr th {\n",
       "        vertical-align: top;\n",
       "    }\n",
       "\n",
       "    .dataframe thead th {\n",
       "        text-align: right;\n",
       "    }\n",
       "</style>\n",
       "<table border=\"1\" class=\"dataframe\">\n",
       "  <thead>\n",
       "    <tr style=\"text-align: right;\">\n",
       "      <th></th>\n",
       "      <th>id</th>\n",
       "      <th>genres</th>\n",
       "    </tr>\n",
       "  </thead>\n",
       "  <tbody>\n",
       "    <tr>\n",
       "      <th>0</th>\n",
       "      <td>761140</td>\n",
       "      <td>action</td>\n",
       "    </tr>\n",
       "    <tr>\n",
       "      <th>1</th>\n",
       "      <td>761140</td>\n",
       "      <td>casual</td>\n",
       "    </tr>\n",
       "    <tr>\n",
       "      <th>2</th>\n",
       "      <td>761140</td>\n",
       "      <td>indie</td>\n",
       "    </tr>\n",
       "    <tr>\n",
       "      <th>3</th>\n",
       "      <td>761140</td>\n",
       "      <td>simulation</td>\n",
       "    </tr>\n",
       "    <tr>\n",
       "      <th>4</th>\n",
       "      <td>761140</td>\n",
       "      <td>strategy</td>\n",
       "    </tr>\n",
       "    <tr>\n",
       "      <th>...</th>\n",
       "      <td>...</td>\n",
       "      <td>...</td>\n",
       "    </tr>\n",
       "    <tr>\n",
       "      <th>71547</th>\n",
       "      <td>610660</td>\n",
       "      <td>indie</td>\n",
       "    </tr>\n",
       "    <tr>\n",
       "      <th>71548</th>\n",
       "      <td>610660</td>\n",
       "      <td>racing</td>\n",
       "    </tr>\n",
       "    <tr>\n",
       "      <th>71549</th>\n",
       "      <td>610660</td>\n",
       "      <td>simulation</td>\n",
       "    </tr>\n",
       "    <tr>\n",
       "      <th>71550</th>\n",
       "      <td>658870</td>\n",
       "      <td>casual</td>\n",
       "    </tr>\n",
       "    <tr>\n",
       "      <th>71551</th>\n",
       "      <td>658870</td>\n",
       "      <td>indie</td>\n",
       "    </tr>\n",
       "  </tbody>\n",
       "</table>\n",
       "<p>71552 rows × 2 columns</p>\n",
       "</div>"
      ],
      "text/plain": [
       "           id      genres\n",
       "0      761140      action\n",
       "1      761140      casual\n",
       "2      761140       indie\n",
       "3      761140  simulation\n",
       "4      761140    strategy\n",
       "...       ...         ...\n",
       "71547  610660       indie\n",
       "71548  610660      racing\n",
       "71549  610660  simulation\n",
       "71550  658870      casual\n",
       "71551  658870       indie\n",
       "\n",
       "[71552 rows x 2 columns]"
      ]
     },
     "execution_count": 73,
     "metadata": {},
     "output_type": "execute_result"
    }
   ],
   "source": [
    "df_Games"
   ]
  },
  {
   "cell_type": "markdown",
   "metadata": {},
   "source": [
    "**Sección Games_Id**"
   ]
  },
  {
   "cell_type": "code",
   "execution_count": 40,
   "metadata": {},
   "outputs": [],
   "source": [
    "#Creo df exclusivo para con el nombre e id del juego\n",
    "df_Games_Id = df_output_Steam_Games[['id','app_name']]"
   ]
  },
  {
   "cell_type": "code",
   "execution_count": 41,
   "metadata": {},
   "outputs": [
    {
     "name": "stderr",
     "output_type": "stream",
     "text": [
      "C:\\Users\\Usuario\\AppData\\Local\\Temp\\ipykernel_12948\\3022317277.py:1: SettingWithCopyWarning: \n",
      "A value is trying to be set on a copy of a slice from a DataFrame\n",
      "\n",
      "See the caveats in the documentation: https://pandas.pydata.org/pandas-docs/stable/user_guide/indexing.html#returning-a-view-versus-a-copy\n",
      "  df_Games_Id.dropna(inplace=True)\n"
     ]
    }
   ],
   "source": [
    "df_Games_Id.dropna(inplace=True)"
   ]
  },
  {
   "cell_type": "code",
   "execution_count": 42,
   "metadata": {},
   "outputs": [
    {
     "name": "stderr",
     "output_type": "stream",
     "text": [
      "C:\\Users\\Usuario\\AppData\\Local\\Temp\\ipykernel_12948\\2675047912.py:2: SettingWithCopyWarning: \n",
      "A value is trying to be set on a copy of a slice from a DataFrame.\n",
      "Try using .loc[row_indexer,col_indexer] = value instead\n",
      "\n",
      "See the caveats in the documentation: https://pandas.pydata.org/pandas-docs/stable/user_guide/indexing.html#returning-a-view-versus-a-copy\n",
      "  df_Games_Id['id'] = df_Games_Id['id'].apply(int)\n"
     ]
    }
   ],
   "source": [
    "#Seteo el tipo de dato de la comlumna 'id' a int\n",
    "df_Games_Id['id'] = df_Games_Id['id'].apply(int)"
   ]
  },
  {
   "cell_type": "code",
   "execution_count": 43,
   "metadata": {},
   "outputs": [],
   "source": [
    "df_Games_Id.reset_index(drop=True, inplace=True)"
   ]
  },
  {
   "cell_type": "markdown",
   "metadata": {},
   "source": [
    "# **Load**"
   ]
  },
  {
   "cell_type": "markdown",
   "metadata": {},
   "source": [
    "*Cargo los dataframes procesados en formato .parquet por el tamaño del archivo resultante que devuelve este tipo de compresion.*"
   ]
  },
  {
   "cell_type": "markdown",
   "metadata": {},
   "source": [
    "**`df_User_Reviews`**"
   ]
  },
  {
   "cell_type": "code",
   "execution_count": 37,
   "metadata": {},
   "outputs": [],
   "source": [
    "df_Reviews.to_parquet('user_Reviews')"
   ]
  },
  {
   "cell_type": "markdown",
   "metadata": {},
   "source": [
    "**`df_Users_Items`**"
   ]
  },
  {
   "cell_type": "code",
   "execution_count": 70,
   "metadata": {},
   "outputs": [],
   "source": [
    "df_Items.to_parquet('user_Items')"
   ]
  },
  {
   "cell_type": "markdown",
   "metadata": {},
   "source": [
    "**`df_Steam_Games`**"
   ]
  },
  {
   "cell_type": "code",
   "execution_count": 74,
   "metadata": {},
   "outputs": [],
   "source": [
    "df_Games.to_parquet('steam_Games')"
   ]
  }
 ],
 "metadata": {
  "kernelspec": {
   "display_name": "entorno",
   "language": "python",
   "name": "python3"
  },
  "language_info": {
   "codemirror_mode": {
    "name": "ipython",
    "version": 3
   },
   "file_extension": ".py",
   "mimetype": "text/x-python",
   "name": "python",
   "nbconvert_exporter": "python",
   "pygments_lexer": "ipython3",
   "version": "3.12.1"
  }
 },
 "nbformat": 4,
 "nbformat_minor": 2
}
