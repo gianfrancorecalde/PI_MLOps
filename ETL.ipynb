{
 "cells": [
  {
   "cell_type": "markdown",
   "metadata": {},
   "source": [
    "**Libreria <a href=\"https://pandas.pydata.org/docs/getting_started/index.html\"> Pandas**</a>\n",
    "\n",
    "*Permite el procesamiento de datos sobre dataframes*"
   ]
  },
  {
   "cell_type": "code",
   "execution_count": 1,
   "metadata": {},
   "outputs": [],
   "source": [
    "import pandas as pd"
   ]
  },
  {
   "cell_type": "markdown",
   "metadata": {},
   "source": [
    "**Libreria  <a href=\"https://docs.python.org/3.12/library/ast.html\"> Abstract Syntax Trees**</a>\n",
    "\n",
    "*Permite la lectura literal de la linea*"
   ]
  },
  {
   "cell_type": "code",
   "execution_count": 2,
   "metadata": {},
   "outputs": [],
   "source": [
    "import ast"
   ]
  },
  {
   "cell_type": "markdown",
   "metadata": {},
   "source": [
    "# **Lectura**  "
   ]
  },
  {
   "cell_type": "code",
   "execution_count": 3,
   "metadata": {},
   "outputs": [],
   "source": [
    "list = []\n",
    "for line in open('G:\\\\My Drive\\\\IT\\\\dataset\\\\australian_user_reviews.json', encoding='utf-8').readlines(): # australian_user_reviews.json\n",
    "    list.append(ast.literal_eval(line))\n",
    "df_reviews = pd.DataFrame.from_dict(list)"
   ]
  },
  {
   "cell_type": "code",
   "execution_count": 5,
   "metadata": {},
   "outputs": [],
   "source": [
    "list = []\n",
    "for line in open('G:\\\\My Drive\\\\IT\\\\dataset\\\\australian_users_items.json', encoding='utf-8').readlines(): # australian_users_items.json\n",
    "    list.append(ast.literal_eval(line))\n",
    "df_items = pd.DataFrame.from_dict(list)"
   ]
  },
  {
   "cell_type": "code",
   "execution_count": 65,
   "metadata": {},
   "outputs": [],
   "source": [
    "df_steam = pd.read_json('G:\\\\My Drive\\\\IT\\\\dataset\\\\output_steam_games.json', lines=True) #output_steam_games.json"
   ]
  },
  {
   "cell_type": "markdown",
   "metadata": {},
   "source": [
    "# **Transform**"
   ]
  },
  {
   "cell_type": "markdown",
   "metadata": {},
   "source": [
    "**`df_User_Reviews`**"
   ]
  },
  {
   "cell_type": "code",
   "execution_count": 7,
   "metadata": {},
   "outputs": [],
   "source": [
    "#Creo df_User_Reviews'\n",
    "df_User_Reviews = df_reviews[['user_id','reviews']]"
   ]
  },
  {
   "cell_type": "code",
   "execution_count": 10,
   "metadata": {},
   "outputs": [],
   "source": [
    "#Desanido los valores de 'reviews'\n",
    "df_User_Reviews = df_User_Reviews.explode('reviews')"
   ]
  },
  {
   "cell_type": "code",
   "execution_count": 12,
   "metadata": {},
   "outputs": [],
   "source": [
    "#Reseteo el index \n",
    "df_User_Reviews.reset_index(drop=True, inplace=True)"
   ]
  },
  {
   "cell_type": "code",
   "execution_count": 26,
   "metadata": {},
   "outputs": [],
   "source": [
    "#Elimino nulos  \n",
    "df_User_Reviews = df_User_Reviews.dropna()"
   ]
  },
  {
   "cell_type": "code",
   "execution_count": 15,
   "metadata": {},
   "outputs": [
    {
     "data": {
      "text/plain": [
       "0                                        \n",
       "1                                        \n",
       "2                                        \n",
       "3                                        \n",
       "4                                        \n",
       "                       ...               \n",
       "59328                                    \n",
       "59329                                    \n",
       "59330    1 person found this review funny\n",
       "59331                                    \n",
       "59332                                    \n",
       "Name: reviews, Length: 59305, dtype: object"
      ]
     },
     "execution_count": 15,
     "metadata": {},
     "output_type": "execute_result"
    }
   ],
   "source": [
    "#Elimino las claves 'last_edited' y 'funny'\n",
    "df_User_Reviews['reviews'].apply(lambda x : x.pop('last_edited'))\n",
    "df_User_Reviews['reviews'].apply(lambda x : x.pop('funny'))"
   ]
  },
  {
   "cell_type": "code",
   "execution_count": 20,
   "metadata": {},
   "outputs": [
    {
     "data": {
      "text/plain": [
       "0        None\n",
       "1        None\n",
       "2        None\n",
       "3        None\n",
       "4        None\n",
       "         ... \n",
       "59328    None\n",
       "59329    None\n",
       "59330    None\n",
       "59331    None\n",
       "59332    None\n",
       "Name: reviews, Length: 59305, dtype: object"
      ]
     },
     "execution_count": 20,
     "metadata": {},
     "output_type": "execute_result"
    }
   ],
   "source": [
    "#Modifico el valor de la clave 'posted'\n",
    "def clean_Posted(dic):\n",
    "    #Reemplazo 'Posted' --> ''\n",
    "    dic['posted'] = dic['posted'].replace('Posted ','')\n",
    "    #Reemplazo '.' --> ''\n",
    "    dic['posted'] = dic['posted'].replace('.','')\n",
    "\n",
    "df_User_Reviews['reviews'].apply(lambda row: clean_Posted(row))"
   ]
  },
  {
   "cell_type": "markdown",
   "metadata": {},
   "source": [
    "*Importo `datetime`, para cambiar el formato de los valores de 'Posted' a '%d-%m-%Y'* "
   ]
  },
  {
   "cell_type": "code",
   "execution_count": 23,
   "metadata": {},
   "outputs": [],
   "source": [
    "from datetime import datetime"
   ]
  },
  {
   "cell_type": "code",
   "execution_count": 24,
   "metadata": {},
   "outputs": [
    {
     "name": "stderr",
     "output_type": "stream",
     "text": [
      "C:\\Users\\Usuario\\AppData\\Local\\Temp\\ipykernel_3948\\2290727481.py:11: SettingWithCopyWarning: \n",
      "A value is trying to be set on a copy of a slice from a DataFrame.\n",
      "Try using .loc[row_indexer,col_indexer] = value instead\n",
      "\n",
      "See the caveats in the documentation: https://pandas.pydata.org/pandas-docs/stable/user_guide/indexing.html#returning-a-view-versus-a-copy\n",
      "  df_User_Reviews['reviews']=df_User_Reviews['reviews'].apply(lambda row: format(row))\n"
     ]
    }
   ],
   "source": [
    "#Convierto a datatime el tipo de la clave 'posted'\n",
    "def format(dic):\n",
    "    try:\n",
    "        #Try to convert\n",
    "        dic['posted']=(datetime.strptime(dic['posted'],'%B %d, %Y')).strftime('%d-%m-%Y')\n",
    "        return dic\n",
    "    except ValueError:\n",
    "        #catch error\n",
    "        return None\n",
    "    \n",
    "df_User_Reviews['reviews']=df_User_Reviews['reviews'].apply(lambda row: format(row))"
   ]
  },
  {
   "cell_type": "code",
   "execution_count": 28,
   "metadata": {},
   "outputs": [
    {
     "name": "stderr",
     "output_type": "stream",
     "text": [
      "C:\\Users\\Usuario\\AppData\\Local\\Temp\\ipykernel_3948\\398216162.py:2: SettingWithCopyWarning: \n",
      "A value is trying to be set on a copy of a slice from a DataFrame\n",
      "\n",
      "See the caveats in the documentation: https://pandas.pydata.org/pandas-docs/stable/user_guide/indexing.html#returning-a-view-versus-a-copy\n",
      "  df_User_Reviews.dropna(inplace=True)\n"
     ]
    }
   ],
   "source": [
    "#Elimino NaNs \n",
    "df_User_Reviews.dropna(inplace=True)"
   ]
  },
  {
   "cell_type": "code",
   "execution_count": 30,
   "metadata": {},
   "outputs": [
    {
     "data": {
      "text/html": [
       "<div>\n",
       "<style scoped>\n",
       "    .dataframe tbody tr th:only-of-type {\n",
       "        vertical-align: middle;\n",
       "    }\n",
       "\n",
       "    .dataframe tbody tr th {\n",
       "        vertical-align: top;\n",
       "    }\n",
       "\n",
       "    .dataframe thead th {\n",
       "        text-align: right;\n",
       "    }\n",
       "</style>\n",
       "<table border=\"1\" class=\"dataframe\">\n",
       "  <thead>\n",
       "    <tr style=\"text-align: right;\">\n",
       "      <th></th>\n",
       "      <th>user_id</th>\n",
       "      <th>reviews</th>\n",
       "    </tr>\n",
       "  </thead>\n",
       "  <tbody>\n",
       "    <tr>\n",
       "      <th>0</th>\n",
       "      <td>76561197970982479</td>\n",
       "      <td>{'posted': '05-11-2011', 'item_id': '1250', 'h...</td>\n",
       "    </tr>\n",
       "    <tr>\n",
       "      <th>1</th>\n",
       "      <td>76561197970982479</td>\n",
       "      <td>{'posted': '15-07-2011', 'item_id': '22200', '...</td>\n",
       "    </tr>\n",
       "    <tr>\n",
       "      <th>2</th>\n",
       "      <td>76561197970982479</td>\n",
       "      <td>{'posted': '21-04-2011', 'item_id': '43110', '...</td>\n",
       "    </tr>\n",
       "    <tr>\n",
       "      <th>3</th>\n",
       "      <td>js41637</td>\n",
       "      <td>{'posted': '24-06-2014', 'item_id': '251610', ...</td>\n",
       "    </tr>\n",
       "    <tr>\n",
       "      <th>4</th>\n",
       "      <td>js41637</td>\n",
       "      <td>{'posted': '08-09-2013', 'item_id': '227300', ...</td>\n",
       "    </tr>\n",
       "    <tr>\n",
       "      <th>...</th>\n",
       "      <td>...</td>\n",
       "      <td>...</td>\n",
       "    </tr>\n",
       "    <tr>\n",
       "      <th>59280</th>\n",
       "      <td>wayfeng</td>\n",
       "      <td>{'posted': '14-10-2015', 'item_id': '730', 'he...</td>\n",
       "    </tr>\n",
       "    <tr>\n",
       "      <th>59283</th>\n",
       "      <td>76561198251004808</td>\n",
       "      <td>{'posted': '10-10-2015', 'item_id': '253980', ...</td>\n",
       "    </tr>\n",
       "    <tr>\n",
       "      <th>59293</th>\n",
       "      <td>72947282842</td>\n",
       "      <td>{'posted': '31-10-2015', 'item_id': '730', 'he...</td>\n",
       "    </tr>\n",
       "    <tr>\n",
       "      <th>59295</th>\n",
       "      <td>ApxLGhost</td>\n",
       "      <td>{'posted': '14-12-2015', 'item_id': '730', 'he...</td>\n",
       "    </tr>\n",
       "    <tr>\n",
       "      <th>59304</th>\n",
       "      <td>76561198267374962</td>\n",
       "      <td>{'posted': '29-12-2015', 'item_id': '369200', ...</td>\n",
       "    </tr>\n",
       "  </tbody>\n",
       "</table>\n",
       "<p>49186 rows × 2 columns</p>\n",
       "</div>"
      ],
      "text/plain": [
       "                 user_id                                            reviews\n",
       "0      76561197970982479  {'posted': '05-11-2011', 'item_id': '1250', 'h...\n",
       "1      76561197970982479  {'posted': '15-07-2011', 'item_id': '22200', '...\n",
       "2      76561197970982479  {'posted': '21-04-2011', 'item_id': '43110', '...\n",
       "3                js41637  {'posted': '24-06-2014', 'item_id': '251610', ...\n",
       "4                js41637  {'posted': '08-09-2013', 'item_id': '227300', ...\n",
       "...                  ...                                                ...\n",
       "59280            wayfeng  {'posted': '14-10-2015', 'item_id': '730', 'he...\n",
       "59283  76561198251004808  {'posted': '10-10-2015', 'item_id': '253980', ...\n",
       "59293        72947282842  {'posted': '31-10-2015', 'item_id': '730', 'he...\n",
       "59295          ApxLGhost  {'posted': '14-12-2015', 'item_id': '730', 'he...\n",
       "59304  76561198267374962  {'posted': '29-12-2015', 'item_id': '369200', ...\n",
       "\n",
       "[49186 rows x 2 columns]"
      ]
     },
     "execution_count": 30,
     "metadata": {},
     "output_type": "execute_result"
    }
   ],
   "source": [
    "df_User_Reviews"
   ]
  },
  {
   "cell_type": "code",
   "execution_count": 31,
   "metadata": {},
   "outputs": [
    {
     "name": "stderr",
     "output_type": "stream",
     "text": [
      "C:\\Users\\Usuario\\AppData\\Local\\Temp\\ipykernel_3948\\2227158698.py:11: SettingWithCopyWarning: \n",
      "A value is trying to be set on a copy of a slice from a DataFrame.\n",
      "Try using .loc[row_indexer,col_indexer] = value instead\n",
      "\n",
      "See the caveats in the documentation: https://pandas.pydata.org/pandas-docs/stable/user_guide/indexing.html#returning-a-view-versus-a-copy\n",
      "  df_User_Reviews['reviews'] = (df_User_Reviews['reviews'].apply(lambda row: to_Int(row))).dropna()\n"
     ]
    }
   ],
   "source": [
    "#Convierto a entero el tipo de dato de la clave 'item_id'\n",
    "def to_Int(dic):\n",
    "    try:\n",
    "        #Try to convert\n",
    "        dic['item_id'] = int(dic['item_id']) \n",
    "        return dic\n",
    "    except ValueError:\n",
    "        #catch error\n",
    "        return None\n",
    "    \n",
    "df_User_Reviews['reviews'] = (df_User_Reviews['reviews'].apply(lambda row: to_Int(row))).dropna()"
   ]
  },
  {
   "cell_type": "code",
   "execution_count": 38,
   "metadata": {},
   "outputs": [
    {
     "data": {
      "text/plain": [
       "0        {'posted': '05-11-2011', 'item_id': 1250, 'hel...\n",
       "1        {'posted': '15-07-2011', 'item_id': 22200, 'he...\n",
       "2        {'posted': '21-04-2011', 'item_id': 43110, 'he...\n",
       "3        {'posted': '24-06-2014', 'item_id': 251610, 'h...\n",
       "4        {'posted': '08-09-2013', 'item_id': 227300, 'h...\n",
       "                               ...                        \n",
       "59280    {'posted': '14-10-2015', 'item_id': 730, 'help...\n",
       "59283    {'posted': '10-10-2015', 'item_id': 253980, 'h...\n",
       "59293    {'posted': '31-10-2015', 'item_id': 730, 'help...\n",
       "59295    {'posted': '14-12-2015', 'item_id': 730, 'help...\n",
       "59304    {'posted': '29-12-2015', 'item_id': 369200, 'h...\n",
       "Name: reviews, Length: 49186, dtype: object"
      ]
     },
     "execution_count": 38,
     "metadata": {},
     "output_type": "execute_result"
    }
   ],
   "source": [
    "df_User_Reviews['reviews']"
   ]
  },
  {
   "cell_type": "code",
   "execution_count": 33,
   "metadata": {},
   "outputs": [
    {
     "data": {
      "text/plain": [
       "0        None\n",
       "1        None\n",
       "2        None\n",
       "3        None\n",
       "4        None\n",
       "         ... \n",
       "59280    None\n",
       "59283    None\n",
       "59293    None\n",
       "59295    None\n",
       "59304    None\n",
       "Name: reviews, Length: 49186, dtype: object"
      ]
     },
     "execution_count": 33,
     "metadata": {},
     "output_type": "execute_result"
    }
   ],
   "source": [
    "#Modifico tipo de dato boolean --> int sobre la columna 'recommend' \n",
    "def to_Int_Boolean(dic):\n",
    "    try:\n",
    "        #Intento\n",
    "        if (dic['recommend']):\n",
    "            #recommend == True\n",
    "            dic['recommend'] = 1\n",
    "        else:\n",
    "            #Recommen == False\n",
    "            dic['recommend'] = 0\n",
    "    except ValueError:\n",
    "        #Capturo el error\n",
    "        return None\n",
    "\n",
    "df_User_Reviews['reviews'].apply(lambda row: to_Int_Boolean(row))"
   ]
  },
  {
   "cell_type": "code",
   "execution_count": 36,
   "metadata": {},
   "outputs": [
    {
     "name": "stderr",
     "output_type": "stream",
     "text": [
      "C:\\Users\\Usuario\\AppData\\Local\\Temp\\ipykernel_3948\\398216162.py:2: SettingWithCopyWarning: \n",
      "A value is trying to be set on a copy of a slice from a DataFrame\n",
      "\n",
      "See the caveats in the documentation: https://pandas.pydata.org/pandas-docs/stable/user_guide/indexing.html#returning-a-view-versus-a-copy\n",
      "  df_User_Reviews.dropna(inplace=True)\n"
     ]
    }
   ],
   "source": [
    "#Elimino NaNs \n",
    "df_User_Reviews.dropna(inplace=True)"
   ]
  },
  {
   "cell_type": "markdown",
   "metadata": {},
   "source": [
    "**Feature Engineering: Sentiments Analysis con <a href=\"https://www.nltk.org/\"> NLTK </a>** \n",
    " "
   ]
  },
  {
   "cell_type": "markdown",
   "metadata": {},
   "source": [
    "*Descargo<a href=\"https://www.nltk.org/nltk_data/\"> `VADER Sentiment Lexicon` </a>* \n",
    "\n",
    "*Contiene un conjunto de palabras con sus respectivos puntajes de polaridad, lo que ayuda a determinar la intensidad del sentimiento expresado en una frase.*"
   ]
  },
  {
   "cell_type": "code",
   "execution_count": 39,
   "metadata": {},
   "outputs": [
    {
     "name": "stderr",
     "output_type": "stream",
     "text": [
      "[nltk_data] Downloading package vader_lexicon to\n",
      "[nltk_data]     C:\\Users\\Usuario\\AppData\\Roaming\\nltk_data...\n",
      "[nltk_data]   Package vader_lexicon is already up-to-date!\n"
     ]
    },
    {
     "data": {
      "text/plain": [
       "True"
      ]
     },
     "execution_count": 39,
     "metadata": {},
     "output_type": "execute_result"
    }
   ],
   "source": [
    "import nltk\n",
    "nltk.download('vader_lexicon')"
   ]
  },
  {
   "cell_type": "code",
   "execution_count": 40,
   "metadata": {},
   "outputs": [],
   "source": [
    "# Importo clase SentimentIntensityAnalyzer   \n",
    "from nltk.sentiment.vader import SentimentIntensityAnalyzer "
   ]
  },
  {
   "cell_type": "code",
   "execution_count": 41,
   "metadata": {},
   "outputs": [],
   "source": [
    "# Instancio SentimentIntensityAnalyzer\n",
    "sia = SentimentIntensityAnalyzer() "
   ]
  },
  {
   "cell_type": "code",
   "execution_count": 42,
   "metadata": {},
   "outputs": [
    {
     "name": "stderr",
     "output_type": "stream",
     "text": [
      "C:\\Users\\Usuario\\AppData\\Local\\Temp\\ipykernel_3948\\3318486988.py:2: SettingWithCopyWarning: \n",
      "A value is trying to be set on a copy of a slice from a DataFrame.\n",
      "Try using .loc[row_indexer,col_indexer] = value instead\n",
      "\n",
      "See the caveats in the documentation: https://pandas.pydata.org/pandas-docs/stable/user_guide/indexing.html#returning-a-view-versus-a-copy\n",
      "  df_User_Reviews['sentiment_analysis'] = df_User_Reviews['reviews'].apply(lambda x: sia.polarity_scores(x['review'])['compound']) #Espicifico la clave 'compound', porque resume la intesidad del sentimiento expresado en la frase\n"
     ]
    }
   ],
   "source": [
    "# Implemento funcion 'polarity_scores' sobre df_User_Reviews\n",
    "df_User_Reviews['sentiment_analysis'] = df_User_Reviews['reviews'].apply(lambda x: sia.polarity_scores(x['review'])['compound']) #Espicifico la clave 'compound', porque resume la intesidad del sentimiento expresado en la frase "
   ]
  },
  {
   "cell_type": "code",
   "execution_count": 44,
   "metadata": {},
   "outputs": [
    {
     "name": "stderr",
     "output_type": "stream",
     "text": [
      "C:\\Users\\Usuario\\AppData\\Local\\Temp\\ipykernel_3948\\2489690222.py:19: SettingWithCopyWarning: \n",
      "A value is trying to be set on a copy of a slice from a DataFrame.\n",
      "Try using .loc[row_indexer,col_indexer] = value instead\n",
      "\n",
      "See the caveats in the documentation: https://pandas.pydata.org/pandas-docs/stable/user_guide/indexing.html#returning-a-view-versus-a-copy\n",
      "  df_User_Reviews['sentiment_analysis'] = df_User_Reviews['sentiment_analysis'].apply(lambda x: recategorizar(x))\n"
     ]
    }
   ],
   "source": [
    "# Recategorizo la intensidad del sentimiento expresado en cada frase\n",
    "\"\"\" Nueva Escala\n",
    "        \n",
    "        POSITIVO -> 2\n",
    "        NEUTRO -> 1\n",
    "        NEGATIVO -> 0\n",
    "\n",
    " \"\"\" \n",
    "\n",
    "def recategorizar(int):\n",
    "    if(int>0):\n",
    "        return 2\n",
    "    else:\n",
    "        if(abs(int) == 0):\n",
    "            return 1\n",
    "        else:\n",
    "            return 0 \n",
    "        \n",
    "df_User_Reviews['sentiment_analysis'] = df_User_Reviews['sentiment_analysis'].apply(lambda x: recategorizar(x))"
   ]
  },
  {
   "cell_type": "markdown",
   "metadata": {},
   "source": [
    "**`df_Users_Items`**"
   ]
  },
  {
   "cell_type": "code",
   "execution_count": 46,
   "metadata": {},
   "outputs": [],
   "source": [
    "#Creo df_Users_Items'\n",
    "df_Users_Items = df_items[['user_id','items_count','items']]"
   ]
  },
  {
   "cell_type": "code",
   "execution_count": 49,
   "metadata": {},
   "outputs": [],
   "source": [
    "#Desanido 'items'\n",
    "df_Users_Items=df_Users_Items.explode('items')"
   ]
  },
  {
   "cell_type": "code",
   "execution_count": 51,
   "metadata": {},
   "outputs": [],
   "source": [
    "#Reseteo Index\n",
    "df_Users_Items.reset_index(drop=True, inplace=True)"
   ]
  },
  {
   "cell_type": "code",
   "execution_count": 52,
   "metadata": {},
   "outputs": [
    {
     "data": {
      "text/plain": [
       "16806"
      ]
     },
     "execution_count": 52,
     "metadata": {},
     "output_type": "execute_result"
    }
   ],
   "source": [
    "#Cantidad de filas con datos nulos en la columna 'items'\n",
    "df_Users_Items['items'].isna().sum()"
   ]
  },
  {
   "cell_type": "code",
   "execution_count": 54,
   "metadata": {},
   "outputs": [],
   "source": [
    "#Elimino nulos\n",
    "df_Users_Items.dropna(inplace=True) "
   ]
  },
  {
   "cell_type": "code",
   "execution_count": 56,
   "metadata": {},
   "outputs": [
    {
     "data": {
      "text/plain": [
       "0          0\n",
       "1          0\n",
       "2          0\n",
       "3          0\n",
       "4          0\n",
       "          ..\n",
       "5170009    0\n",
       "5170010    0\n",
       "5170011    3\n",
       "5170012    4\n",
       "5170013    3\n",
       "Name: items, Length: 5153209, dtype: int64"
      ]
     },
     "execution_count": 56,
     "metadata": {},
     "output_type": "execute_result"
    }
   ],
   "source": [
    "#Elimino clave 'playtime_2weeks', porque no es un dato relevante en el desarrollo del trabajo y reduce el tamaño del df. \n",
    "df_Users_Items['items'].apply(lambda x : x.pop('playtime_2weeks'))"
   ]
  },
  {
   "cell_type": "code",
   "execution_count": 59,
   "metadata": {},
   "outputs": [
    {
     "data": {
      "text/plain": [
       "0          None\n",
       "1          None\n",
       "2          None\n",
       "3          None\n",
       "4          None\n",
       "           ... \n",
       "5170009    None\n",
       "5170010    None\n",
       "5170011    None\n",
       "5170012    None\n",
       "5170013    None\n",
       "Name: items, Length: 5153209, dtype: object"
      ]
     },
     "execution_count": 59,
     "metadata": {},
     "output_type": "execute_result"
    }
   ],
   "source": [
    "#Modifico tipo de dato, str --> int\n",
    "#Motivo, conociendo los tipos de valores de clave es mas sencillo trabajar con int, antes que str.\n",
    "def toInt(dic):\n",
    "    dic['item_id']=int(dic['item_id'])\n",
    "\n",
    "df_Users_Items['items'].apply(lambda x: toInt(x))"
   ]
  },
  {
   "cell_type": "code",
   "execution_count": 61,
   "metadata": {},
   "outputs": [
    {
     "data": {
      "text/plain": [
       "0"
      ]
     },
     "execution_count": 61,
     "metadata": {},
     "output_type": "execute_result"
    }
   ],
   "source": [
    "def itemsId_Null(fila):\n",
    "    return fila['items']['item_name']==''\n",
    "\n",
    "df_Users_Items.apply(itemsId_Null, axis=1).sum()"
   ]
  },
  {
   "cell_type": "markdown",
   "metadata": {},
   "source": [
    "**`df_Steam_Games`**"
   ]
  },
  {
   "cell_type": "code",
   "execution_count": 66,
   "metadata": {},
   "outputs": [],
   "source": [
    "#Creo df unicamente con los siguientes campos: {genres, app_name, id}\n",
    "#Porque el resto de la columna no aportan datos relevantes para la implementacion de las funciones con la API.\n",
    "df_Steam_Games = df_steam[['genres','app_name','id']]"
   ]
  },
  {
   "cell_type": "code",
   "execution_count": 70,
   "metadata": {},
   "outputs": [
    {
     "data": {
      "text/plain": [
       "91593"
      ]
     },
     "execution_count": 70,
     "metadata": {},
     "output_type": "execute_result"
    }
   ],
   "source": [
    "#Consulto cantidad de nulos en la columna 'genres'\n",
    "df_Steam_Games['genres'].isna().sum()"
   ]
  },
  {
   "cell_type": "code",
   "execution_count": 69,
   "metadata": {},
   "outputs": [
    {
     "data": {
      "text/plain": [
       "88312"
      ]
     },
     "execution_count": 69,
     "metadata": {},
     "output_type": "execute_result"
    }
   ],
   "source": [
    "#Consulto cantidad de nulos en la columna 'app_name'\n",
    "df_Steam_Games['app_name'].isna().sum()"
   ]
  },
  {
   "cell_type": "code",
   "execution_count": 71,
   "metadata": {},
   "outputs": [
    {
     "data": {
      "text/plain": [
       "88312"
      ]
     },
     "execution_count": 71,
     "metadata": {},
     "output_type": "execute_result"
    }
   ],
   "source": [
    "#Consulto cantidad de nulos en la columna 'id'\n",
    "df_Steam_Games['id'].isna().sum()"
   ]
  },
  {
   "cell_type": "code",
   "execution_count": 72,
   "metadata": {},
   "outputs": [
    {
     "name": "stderr",
     "output_type": "stream",
     "text": [
      "C:\\Users\\Usuario\\AppData\\Local\\Temp\\ipykernel_3948\\1082775196.py:2: SettingWithCopyWarning: \n",
      "A value is trying to be set on a copy of a slice from a DataFrame\n",
      "\n",
      "See the caveats in the documentation: https://pandas.pydata.org/pandas-docs/stable/user_guide/indexing.html#returning-a-view-versus-a-copy\n",
      "  df_Steam_Games.dropna(inplace=True)\n"
     ]
    }
   ],
   "source": [
    "#Elimino nulos \n",
    "df_Steam_Games.dropna(inplace=True)"
   ]
  },
  {
   "cell_type": "code",
   "execution_count": 74,
   "metadata": {},
   "outputs": [],
   "source": [
    "#Reset index\n",
    "df_Steam_Games.reset_index(drop=True, inplace=True)"
   ]
  },
  {
   "cell_type": "code",
   "execution_count": 77,
   "metadata": {},
   "outputs": [
    {
     "data": {
      "text/html": [
       "<div>\n",
       "<style scoped>\n",
       "    .dataframe tbody tr th:only-of-type {\n",
       "        vertical-align: middle;\n",
       "    }\n",
       "\n",
       "    .dataframe tbody tr th {\n",
       "        vertical-align: top;\n",
       "    }\n",
       "\n",
       "    .dataframe thead th {\n",
       "        text-align: right;\n",
       "    }\n",
       "</style>\n",
       "<table border=\"1\" class=\"dataframe\">\n",
       "  <thead>\n",
       "    <tr style=\"text-align: right;\">\n",
       "      <th></th>\n",
       "      <th>genres</th>\n",
       "      <th>app_name</th>\n",
       "      <th>id</th>\n",
       "    </tr>\n",
       "  </thead>\n",
       "  <tbody>\n",
       "    <tr>\n",
       "      <th>0</th>\n",
       "      <td>[Action, Casual, Indie, Simulation, Strategy]</td>\n",
       "      <td>Lost Summoner Kitty</td>\n",
       "      <td>761140</td>\n",
       "    </tr>\n",
       "    <tr>\n",
       "      <th>1</th>\n",
       "      <td>[Free to Play, Indie, RPG, Strategy]</td>\n",
       "      <td>Ironbound</td>\n",
       "      <td>643980</td>\n",
       "    </tr>\n",
       "    <tr>\n",
       "      <th>2</th>\n",
       "      <td>[Casual, Free to Play, Indie, Simulation, Sports]</td>\n",
       "      <td>Real Pool 3D - Poolians</td>\n",
       "      <td>670290</td>\n",
       "    </tr>\n",
       "    <tr>\n",
       "      <th>3</th>\n",
       "      <td>[Action, Adventure, Casual]</td>\n",
       "      <td>弹炸人2222</td>\n",
       "      <td>767400</td>\n",
       "    </tr>\n",
       "    <tr>\n",
       "      <th>4</th>\n",
       "      <td>[Action, Adventure, Simulation]</td>\n",
       "      <td>Battle Royale Trainer</td>\n",
       "      <td>772540</td>\n",
       "    </tr>\n",
       "    <tr>\n",
       "      <th>...</th>\n",
       "      <td>...</td>\n",
       "      <td>...</td>\n",
       "      <td>...</td>\n",
       "    </tr>\n",
       "    <tr>\n",
       "      <th>28845</th>\n",
       "      <td>[Action, Adventure, Casual, Indie]</td>\n",
       "      <td>Kebab it Up!</td>\n",
       "      <td>745400</td>\n",
       "    </tr>\n",
       "    <tr>\n",
       "      <th>28846</th>\n",
       "      <td>[Casual, Indie, Simulation, Strategy]</td>\n",
       "      <td>Colony On Mars</td>\n",
       "      <td>773640</td>\n",
       "    </tr>\n",
       "    <tr>\n",
       "      <th>28847</th>\n",
       "      <td>[Casual, Indie, Strategy]</td>\n",
       "      <td>LOGistICAL: South Africa</td>\n",
       "      <td>733530</td>\n",
       "    </tr>\n",
       "    <tr>\n",
       "      <th>28848</th>\n",
       "      <td>[Indie, Racing, Simulation]</td>\n",
       "      <td>Russian Roads</td>\n",
       "      <td>610660</td>\n",
       "    </tr>\n",
       "    <tr>\n",
       "      <th>28849</th>\n",
       "      <td>[Casual, Indie]</td>\n",
       "      <td>EXIT 2 - Directions</td>\n",
       "      <td>658870</td>\n",
       "    </tr>\n",
       "  </tbody>\n",
       "</table>\n",
       "<p>28850 rows × 3 columns</p>\n",
       "</div>"
      ],
      "text/plain": [
       "                                                  genres  \\\n",
       "0          [Action, Casual, Indie, Simulation, Strategy]   \n",
       "1                   [Free to Play, Indie, RPG, Strategy]   \n",
       "2      [Casual, Free to Play, Indie, Simulation, Sports]   \n",
       "3                            [Action, Adventure, Casual]   \n",
       "4                        [Action, Adventure, Simulation]   \n",
       "...                                                  ...   \n",
       "28845                 [Action, Adventure, Casual, Indie]   \n",
       "28846              [Casual, Indie, Simulation, Strategy]   \n",
       "28847                          [Casual, Indie, Strategy]   \n",
       "28848                        [Indie, Racing, Simulation]   \n",
       "28849                                    [Casual, Indie]   \n",
       "\n",
       "                       app_name      id  \n",
       "0           Lost Summoner Kitty  761140  \n",
       "1                     Ironbound  643980  \n",
       "2       Real Pool 3D - Poolians  670290  \n",
       "3                       弹炸人2222  767400  \n",
       "4         Battle Royale Trainer  772540  \n",
       "...                         ...     ...  \n",
       "28845              Kebab it Up!  745400  \n",
       "28846            Colony On Mars  773640  \n",
       "28847  LOGistICAL: South Africa  733530  \n",
       "28848             Russian Roads  610660  \n",
       "28849       EXIT 2 - Directions  658870  \n",
       "\n",
       "[28850 rows x 3 columns]"
      ]
     },
     "execution_count": 77,
     "metadata": {},
     "output_type": "execute_result"
    }
   ],
   "source": [
    "df_Steam_Games"
   ]
  },
  {
   "cell_type": "code",
   "execution_count": 76,
   "metadata": {},
   "outputs": [
    {
     "name": "stderr",
     "output_type": "stream",
     "text": [
      "C:\\Users\\Usuario\\AppData\\Local\\Temp\\ipykernel_3948\\1772122932.py:10: SettingWithCopyWarning: \n",
      "A value is trying to be set on a copy of a slice from a DataFrame.\n",
      "Try using .loc[row_indexer,col_indexer] = value instead\n",
      "\n",
      "See the caveats in the documentation: https://pandas.pydata.org/pandas-docs/stable/user_guide/indexing.html#returning-a-view-versus-a-copy\n",
      "  df_Steam_Games['id'] = df_Steam_Games['id'].apply(lambda x: to_Int(x)).dropna()\n"
     ]
    }
   ],
   "source": [
    "#Convertir a entero la comlumna 'id'\n",
    "def to_Int(nro):\n",
    "    try:\n",
    "        #Try to convert\n",
    "        return int(nro)\n",
    "    except ValueError:\n",
    "        #catch error\n",
    "        return None\n",
    "    \n",
    "df_Steam_Games['id'] = df_Steam_Games['id'].apply(lambda x: to_Int(x)).dropna()"
   ]
  },
  {
   "cell_type": "markdown",
   "metadata": {},
   "source": [
    "# **Load**"
   ]
  },
  {
   "cell_type": "markdown",
   "metadata": {},
   "source": [
    "*Cargo los dataframes procesados en formato .parquet por el tamaño del archivo resultante que devuelve este tipo de compresion.*"
   ]
  },
  {
   "cell_type": "markdown",
   "metadata": {},
   "source": [
    "**`df_User_Reviews`**"
   ]
  },
  {
   "cell_type": "code",
   "execution_count": 40,
   "metadata": {},
   "outputs": [],
   "source": [
    "df_User_Reviews.to_parquet('user_Reviews')"
   ]
  },
  {
   "cell_type": "markdown",
   "metadata": {},
   "source": [
    "**`df_Users_Items`**"
   ]
  },
  {
   "cell_type": "code",
   "execution_count": 41,
   "metadata": {},
   "outputs": [],
   "source": [
    "df_Users_Items.to_parquet('user_items')"
   ]
  },
  {
   "cell_type": "markdown",
   "metadata": {},
   "source": [
    "**`df_Steam_Games`**"
   ]
  },
  {
   "cell_type": "code",
   "execution_count": null,
   "metadata": {},
   "outputs": [],
   "source": [
    "df_Steam_Games.to_parquet('steam_Games')"
   ]
  }
 ],
 "metadata": {
  "kernelspec": {
   "display_name": "EntMLOps",
   "language": "python",
   "name": "python3"
  },
  "language_info": {
   "codemirror_mode": {
    "name": "ipython",
    "version": 3
   },
   "file_extension": ".py",
   "mimetype": "text/x-python",
   "name": "python",
   "nbconvert_exporter": "python",
   "pygments_lexer": "ipython3",
   "version": "3.12.1"
  }
 },
 "nbformat": 4,
 "nbformat_minor": 2
}
